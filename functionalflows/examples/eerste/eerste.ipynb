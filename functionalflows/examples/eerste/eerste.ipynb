{
 "cells": [
  {
   "attachments": {},
   "cell_type": "markdown",
   "metadata": {},
   "source": [
    "# Eerste Example Functions Flows\n",
    "\n",
    "This notebook is used to parameterize the .toml configuration file used to run the eerste example as a console application. "
   ]
  },
  {
   "cell_type": "code",
   "execution_count": 1,
   "metadata": {},
   "outputs": [
    {
     "ename": "ModuleNotFoundError",
     "evalue": "No module named 'utilities'",
     "output_type": "error",
     "traceback": [
      "\u001b[0;31m---------------------------------------------------------------------------\u001b[0m",
      "\u001b[0;31mModuleNotFoundError\u001b[0m                       Traceback (most recent call last)",
      "Cell \u001b[0;32mIn[1], line 9\u001b[0m\n\u001b[1;32m      7\u001b[0m DIRECTORY \u001b[39m=\u001b[39m \u001b[39m'\u001b[39m\u001b[39m/Users/johnkucharski/Documents/source/functionalflows/\u001b[39m\u001b[39m'\u001b[39m\n\u001b[1;32m      8\u001b[0m sys\u001b[39m.\u001b[39mpath\u001b[39m.\u001b[39mappend(DIRECTORY)\n\u001b[0;32m----> 9\u001b[0m \u001b[39mfrom\u001b[39;00m \u001b[39mutilities\u001b[39;00m \u001b[39mimport\u001b[39;00m day_of_water_year, liters_per_day_to_m3_per_second\n",
      "\u001b[0;31mModuleNotFoundError\u001b[0m: No module named 'utilities'"
     ]
    }
   ],
   "source": [
    "import sys\n",
    "import tomllib\n",
    "\n",
    "import numpy as np\n",
    "import pandas as pd\n",
    "  \n",
    "DIRECTORY = '/Users/johnkucharski/Documents/source/functionalflows/'\n",
    "sys.path.append(DIRECTORY)\n",
    "from utilities import day_of_water_year, liters_per_day_to_m3_per_second"
   ]
  },
  {
   "attachments": {},
   "cell_type": "markdown",
   "metadata": {},
   "source": [
    "The functional flows program analyzes water rather than calendar years. The days in the calendar year that correspond with the beginning of the Eerste watershed water year is printed below."
   ]
  },
  {
   "cell_type": "code",
   "execution_count": null,
   "metadata": {},
   "outputs": [],
   "source": [
    "first_day_of_wy = pd.to_datetime(\"5-1-2023\").day_of_year\n",
    "print(f'start of water year is the {first_day_of_wy}st day of the year (5-1).')"
   ]
  },
  {
   "attachments": {},
   "cell_type": "markdown",
   "metadata": {},
   "source": [
    "### Input data\n",
    "\n",
    "The Eerste example will analyze the input data (df_input) printed to a input.csv file below."
   ]
  },
  {
   "cell_type": "code",
   "execution_count": null,
   "metadata": {},
   "outputs": [],
   "source": [
    "df_simulated = pd.read_csv(DIRECTORY + '/examples/eerste/simulated_inflow.csv', parse_dates=['dates'], index_col='dates')\n",
    "df_simulated = df_simulated[['flows']]\n",
    "df_simulated['flows'] = df_simulated['flows'].replace(-9999.0, np.nan)\n",
    "df_simulated['flows'] = df_simulated['flows'].apply(liters_per_day_to_m3_per_second)\n",
    "df_input = df_simulated[['flows']]\n",
    "df_input.head()\n"
   ]
  },
  {
   "cell_type": "code",
   "execution_count": null,
   "metadata": {},
   "outputs": [],
   "source": [
    "df_input.to_csv(DIRECTORY + '/examples/eerste/input.csv')\n",
    "print(f'Input data printed the file at: {DIRECTORY + \"/examples/eerste/input.csv\"}.')"
   ]
  },
  {
   "attachments": {},
   "cell_type": "markdown",
   "metadata": {},
   "source": [
    "### Historical data\n",
    "\n",
    "Functional flow componenents and component metric values are computed based on the historical simulation data below."
   ]
  },
  {
   "cell_type": "code",
   "execution_count": null,
   "metadata": {},
   "outputs": [],
   "source": [
    "df_historical = pd.read_csv(DIRECTORY + '/examples/eerste/historical_inflow.csv', parse_dates=['date'], index_col='date')\n",
    "df_historical = df_historical[['historical_inflow']]\n",
    "df_historical['historical_inflow'] = df_historical['historical_inflow'].replace(-9999.0, np.nan)\n",
    "df_historical['flow'] = df_historical['historical_inflow'].apply(liters_per_day_to_m3_per_second)\n",
    "df_historical.dropna(inplace=True)\n",
    "df_historical.head()"
   ]
  },
  {
   "attachments": {},
   "cell_type": "markdown",
   "metadata": {},
   "source": [
    "## Dry season baseflow component.\n",
    "\n",
    "This example component has the following characteristics.\n",
    "    \n",
    "* Timing: [01 Dec, 01 May], corresponds with dry season.\n",
    "* Magnitude: exceeds the 10th percentile of historical period, 1 day flow values.\n",
    "* Duration: less than 7 days. *NOTE*: this is a *failure* pattern, it identifies periods where timing criteria is met but the magnitude duration is NOT met for 7 or more days. This cooresponds with the timing, magnitude pattern: [1, 0] (i.e. [1=timing metric is met, 0=magnitude threshold is not met]).\n",
    "\n",
    "To score this component we identify periods in which the flow between 01 Dec - 01 May falls below the 10th percentile of the dry season flow in the historical period for 7 or more days for this. In other words we identify dry season baseflow periods in which the functional flow component critieria is NOT met. This is a *falure* patterns described by the following scoring criteria: [1,0,1]. \n",
    "\n",
    "This must be matched with a biotic or abiotic ecosystem function or aquatic community need. For instance, in this case perhaps the needs of large bodied fish or aquatic macroinvertibrates."
   ]
  },
  {
   "cell_type": "code",
   "execution_count": null,
   "metadata": {},
   "outputs": [],
   "source": [
    "timing = [day_of_water_year(pd.to_datetime(\"1-1-2023\"), start=first_day_of_wy), 366]\n",
    "\n",
    "df_historical['dry_season'] = df_historical.index.map(lambda t: 1 if timing[0] <= t.day_of_year < timing[1] else 0)\n",
    "magnitude = df_historical.loc[df_historical['dry_season'] == 1]['flow'].quantile(0.10)\n",
    "\n",
    "duration = 7\n",
    "duration_pattern = np.array([1,0])\n",
    "\n",
    "print(f'timing: {timing} days of water year.')\n",
    "print(f'magnitude: > {magnitude} cms.')\n",
    "print(f'duration: > {duration} consecutive days, when the timing duration pattern {duration_pattern}, respectively.')\n",
    "print(f'scoring criteria: failure pattern [timing=1, magnitude=0, duration=1] (where 1 indicates success and 0 indicates failure to meet the criteria).')"
   ]
  },
  {
   "cell_type": "code",
   "execution_count": null,
   "metadata": {},
   "outputs": [],
   "source": [
    "data = {\n",
    "    'first_day_of_water_year': first_day_of_wy,\n",
    "    'components': {\n",
    "        'dry_season_baseflow': {\n",
    "            'characteristics': ['timing', 'magnitude', 'duration'],\n",
    "            'parameters': [[245, 366], [1, 0.011, '>'], [7, [1,0], '>']],\n",
    "            'scoring_pattern': [1, 0, 1],\n",
    "            'success_pattern': False\n",
    "        },\n",
    "    }\n",
    "}\n",
    "with open(DIRECTORY + 'examples/eerste/eerste.toml', 'wb') as f:\n",
    "    tomllib.dump(data, f)\n",
    "    #tomli_w.dump(data, f)"
   ]
  },
  {
   "attachments": {},
   "cell_type": "markdown",
   "metadata": {},
   "source": [
    "## November Pulse Flow\n",
    "\n",
    "This example component has the following characteristics.\n",
    "    \n",
    "* Timing: [01 Nov, 01 Dec], corresponds with a peak in the 7, 14, 30 day flow.\n",
    "* Magnitude: exceeds the 75th percentile of historical November 1 day flow values.\n",
    "* Rate of Change: and must represent at least a doubling of the previous days flow value (e.g. it is peak not just a large baseflow).\n",
    "\n",
    "So, the flow between 01 Nov - 01 Dec must exceed the 75th percentile of daily flow values for November and must represent at least a doubling of the previous 1-day flow value. In this case a *success* pattern: [timing=1, magnitude=1, rate_of_change=1] is scored.\n",
    "\n",
    "This must be matched with a biotic or abiotic ecosystem function or aquatic community need. For instance, in this case perhaps this flow provides a signal for migratory species."
   ]
  },
  {
   "cell_type": "code",
   "execution_count": null,
   "metadata": {},
   "outputs": [],
   "source": [
    "timing = [day_of_water_year(pd.to_datetime(\"11-1-2023\"), start=first_day_of_wy), day_of_water_year(pd.to_datetime(\"12-1-2023\"), start=first_day_of_wy)]\n",
    "\n",
    "df_historical['november'] = df_historical.index.map(lambda t: 1 if timing[0] <= t.day_of_year < timing[1] else 0)\n",
    "magnitude = df_historical.loc[df_historical['november'] == 1]['flow'].quantile(0.75)\n",
    "\n",
    "rate_of_change = 2\n",
    "\n",
    "print(f'timing: {timing} days of water year.')\n",
    "print(f'magnitude: > {magnitude}.')\n",
    "print(f'rate_of_change: > {rate_of_change}.')\n",
    "print(f'scoring_pattern: [1, 1, 1]')"
   ]
  },
  {
   "cell_type": "code",
   "execution_count": null,
   "metadata": {},
   "outputs": [],
   "source": [
    "data = {\n",
    "    'first_day_of_water_year': first_day_of_wy,\n",
    "    'components': {\n",
    "        'dry_season_baseflow': {\n",
    "            'characteristics': ['timing', 'magnitude', 'duration'],\n",
    "            'parameters': [[245, 366], [1, 0.011, '>'], [7, [1,0], '>']],\n",
    "            'scoring_pattern': [1, 0, 1],\n",
    "            'success_pattern': False\n",
    "        },\n",
    "        'november_pulse_flow': {\n",
    "            'characteristics': ['timing', 'magnitude', 'rate_of_change'],\n",
    "            'parameters': [[185, 215], [1, 2.256, '>'], [1, 2.0, '>']],\n",
    "            'scoring_pattern': [1, 1, 1],\n",
    "            'success_pattern': True \n",
    "        },\n",
    "    }\n",
    "}\n",
    "with open(DIRECTORY + 'examples/eerste/eerste.toml', 'wb') as f:\n",
    "    tomllib.dump(data, f)"
   ]
  },
  {
   "attachments": {},
   "cell_type": "markdown",
   "metadata": {},
   "source": [
    "## Bankfull flow\n",
    "\n",
    "This example component has the following characteristics.\n",
    "    \n",
    "* Magnitude: is exceeded 50% of time in historic timeseries (2-yr flow).\n",
    "* Frequency: it must happen at least once every 5 years.\n",
    "\n",
    "The frequency characteristic metric will be equal to 1 (success) whenever the magnitude criteria has been met at least 1 in the last 5 years. The magnitude metric will only be equal to 1 (success) on days where the flow exceeds the threshold value. Therefore the overall scoring pattern, will only depend on the value of the frequency characteristic metric. This*success* pattern is specified as: [magnitude=\\*, frequency=1], where the \"\\*\" indicates that any value is acceptable.\n",
    "\n",
    "This must be matched with a biotic or abiotic ecosystem function or aquatic community need. For instance, in this case perhaps this flow connects the river with its floodplain, delivering sediment and nutrients to riparian areas adjacent to the river."
   ]
  },
  {
   "cell_type": "code",
   "execution_count": null,
   "metadata": {},
   "outputs": [],
   "source": [
    "df_historical['wy'] = np.where(df_historical.index.day_of_year < first_day_of_wy, df_historical.index.year - 1, df_historical.index.year)\n",
    "bankfull_flow = df_historical[['wy', 'flow']].groupby(['wy']).max()['flow'].median()\n",
    "print(f'The estimated bankfull flow (flow exceeded 50% of the time in the historic time series) is: {bankfull_flow} cms.')"
   ]
  },
  {
   "cell_type": "code",
   "execution_count": null,
   "metadata": {},
   "outputs": [],
   "source": [
    "data = {\n",
    "    'first_day_of_water_year': first_day_of_wy,\n",
    "    'components': {\n",
    "        'dry_season_baseflow': {\n",
    "            'characteristics': ['timing', 'magnitude', 'duration'],\n",
    "            'parameters': [[245, 366], [1, 0.011, '>'], [7, [1,0], '>']],\n",
    "            'scoring_pattern': [1, 0, 1],\n",
    "            'success_pattern': False\n",
    "        },\n",
    "        'november_pulse_flow': {\n",
    "            'characteristics': ['timing', 'magnitude', 'rate_of_change'],\n",
    "            'parameters': [[185, 215], [1, 2.256, '>'], [1, 2.0, '>']],\n",
    "            'scoring_pattern': [1, 1, 1],\n",
    "            'success_pattern': True \n",
    "        },\n",
    "        'bankfull_flow': {\n",
    "            'characteristics': ['magnitude', 'frequency'],\n",
    "            'parameters': [[1, 9.651, '>'], [1, 5, [1], '>']],\n",
    "            'scoring_pattern': ['*', 1],\n",
    "            'success_pattern': True\n",
    "        }\n",
    "    }\n",
    "}\n",
    "with open(DIRECTORY + 'examples/eerste/eerste.toml', 'wb') as f:\n",
    "    tomllib.dump(data, f)"
   ]
  }
 ],
 "metadata": {
  "kernelspec": {
   "display_name": "functionalflows",
   "language": "python",
   "name": "python3"
  },
  "language_info": {
   "codemirror_mode": {
    "name": "ipython",
    "version": 3
   },
   "file_extension": ".py",
   "mimetype": "text/x-python",
   "name": "python",
   "nbconvert_exporter": "python",
   "pygments_lexer": "ipython3",
   "version": "3.12.2"
  },
  "orig_nbformat": 4,
  "vscode": {
   "interpreter": {
    "hash": "c9813e6d25ff535533e0afbf87c593520a9921d98f4c4d2e1ea4661e114365fd"
   }
  }
 },
 "nbformat": 4,
 "nbformat_minor": 2
}
