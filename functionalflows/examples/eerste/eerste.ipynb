{
 "cells": [
  {
   "attachments": {},
   "cell_type": "markdown",
   "metadata": {},
   "source": [
    "# Eerste Example Functions Flows\n",
    "\n",
    "This notebook is used to parameterize the .toml configuration file used to run the eerste example as a console application. "
   ]
  },
  {
   "cell_type": "code",
   "execution_count": 1,
   "metadata": {},
   "outputs": [],
   "source": [
    "import sys\n",
    "\n",
    "import numpy as np\n",
    "import pandas as pd\n",
    "import tomli\n",
    "import tomli_w\n",
    "  \n",
    "DIRECTORY = '/Users/johnkucharski/Documents/source/functionalflows/functionalflows/functionalflows/'\n",
    "sys.path.append(DIRECTORY)\n",
    "from utilities import day_of_water_year, liters_per_day_to_m3_per_second"
   ]
  },
  {
   "attachments": {},
   "cell_type": "markdown",
   "metadata": {},
   "source": [
    "The functional flows program analyzes water rather than calendar years. The days in the calendar year that correspond with the beginning of the Eerste watershed water year is printed below."
   ]
  },
  {
   "cell_type": "code",
   "execution_count": 2,
   "metadata": {},
   "outputs": [
    {
     "name": "stdout",
     "output_type": "stream",
     "text": [
      "start of water year is the 121st day of the year.\n"
     ]
    }
   ],
   "source": [
    "first_day_of_wy = pd.to_datetime(\"5-1-2023\").day_of_year\n",
    "print(f'start of water year is the {first_day_of_wy}st day of the year.')"
   ]
  },
  {
   "attachments": {},
   "cell_type": "markdown",
   "metadata": {},
   "source": [
    "### Input data\n",
    "\n",
    "The Eerste example will analyze the input data (df_input) printed to a input.csv file below."
   ]
  },
  {
   "cell_type": "code",
   "execution_count": 3,
   "metadata": {},
   "outputs": [
    {
     "data": {
      "text/html": [
       "<div>\n",
       "<style scoped>\n",
       "    .dataframe tbody tr th:only-of-type {\n",
       "        vertical-align: middle;\n",
       "    }\n",
       "\n",
       "    .dataframe tbody tr th {\n",
       "        vertical-align: top;\n",
       "    }\n",
       "\n",
       "    .dataframe thead th {\n",
       "        text-align: right;\n",
       "    }\n",
       "</style>\n",
       "<table border=\"1\" class=\"dataframe\">\n",
       "  <thead>\n",
       "    <tr style=\"text-align: right;\">\n",
       "      <th></th>\n",
       "      <th>flows</th>\n",
       "    </tr>\n",
       "    <tr>\n",
       "      <th>dates</th>\n",
       "      <th></th>\n",
       "    </tr>\n",
       "  </thead>\n",
       "  <tbody>\n",
       "    <tr>\n",
       "      <th>1997-01-01 07:30:00</th>\n",
       "      <td>5.949074</td>\n",
       "    </tr>\n",
       "    <tr>\n",
       "      <th>1997-01-02 07:30:00</th>\n",
       "      <td>1.655093</td>\n",
       "    </tr>\n",
       "    <tr>\n",
       "      <th>1997-01-03 07:30:00</th>\n",
       "      <td>0.628472</td>\n",
       "    </tr>\n",
       "    <tr>\n",
       "      <th>1997-01-04 07:30:00</th>\n",
       "      <td>0.349537</td>\n",
       "    </tr>\n",
       "    <tr>\n",
       "      <th>1997-01-05 07:30:00</th>\n",
       "      <td>0.268519</td>\n",
       "    </tr>\n",
       "  </tbody>\n",
       "</table>\n",
       "</div>"
      ],
      "text/plain": [
       "                        flows\n",
       "dates                        \n",
       "1997-01-01 07:30:00  5.949074\n",
       "1997-01-02 07:30:00  1.655093\n",
       "1997-01-03 07:30:00  0.628472\n",
       "1997-01-04 07:30:00  0.349537\n",
       "1997-01-05 07:30:00  0.268519"
      ]
     },
     "execution_count": 3,
     "metadata": {},
     "output_type": "execute_result"
    }
   ],
   "source": [
    "df_simulated = pd.read_csv(DIRECTORY + '/examples/eerste/simulated_inflow.csv', parse_dates=['dates'], index_col='dates')\n",
    "df_simulated = df_simulated[['flows']]\n",
    "df_simulated['flows'] = df_simulated['flows'].replace(-9999.0, np.nan)\n",
    "df_simulated['flows'] = df_simulated['flows'].apply(liters_per_day_to_m3_per_second)\n",
    "df_input = df_simulated[['flows']]\n",
    "df_input.head()\n"
   ]
  },
  {
   "cell_type": "code",
   "execution_count": 4,
   "metadata": {},
   "outputs": [
    {
     "name": "stdout",
     "output_type": "stream",
     "text": [
      "Input data printed the file at: /Users/johnkucharski/Documents/source/functionalflows/functionalflows/functionalflows//examples/eerste/input.csv.\n"
     ]
    }
   ],
   "source": [
    "df_input.to_csv(DIRECTORY + '/examples/eerste/input.csv')\n",
    "print(f'Input data printed the file at: {DIRECTORY + \"/examples/eerste/input.csv\"}.')"
   ]
  },
  {
   "attachments": {},
   "cell_type": "markdown",
   "metadata": {},
   "source": [
    "### Historical data\n",
    "\n",
    "Functional flow componenents and component metric values are computed based on the historical simulation data below."
   ]
  },
  {
   "cell_type": "code",
   "execution_count": 5,
   "metadata": {},
   "outputs": [
    {
     "data": {
      "text/html": [
       "<div>\n",
       "<style scoped>\n",
       "    .dataframe tbody tr th:only-of-type {\n",
       "        vertical-align: middle;\n",
       "    }\n",
       "\n",
       "    .dataframe tbody tr th {\n",
       "        vertical-align: top;\n",
       "    }\n",
       "\n",
       "    .dataframe thead th {\n",
       "        text-align: right;\n",
       "    }\n",
       "</style>\n",
       "<table border=\"1\" class=\"dataframe\">\n",
       "  <thead>\n",
       "    <tr style=\"text-align: right;\">\n",
       "      <th></th>\n",
       "      <th>historical_inflow</th>\n",
       "      <th>flow</th>\n",
       "    </tr>\n",
       "    <tr>\n",
       "      <th>date</th>\n",
       "      <th></th>\n",
       "      <th></th>\n",
       "    </tr>\n",
       "  </thead>\n",
       "  <tbody>\n",
       "    <tr>\n",
       "      <th>1989-07-01</th>\n",
       "      <td>128390400.0</td>\n",
       "      <td>1.486</td>\n",
       "    </tr>\n",
       "    <tr>\n",
       "      <th>1989-07-02</th>\n",
       "      <td>353289600.0</td>\n",
       "      <td>4.089</td>\n",
       "    </tr>\n",
       "    <tr>\n",
       "      <th>1989-07-03</th>\n",
       "      <td>277689600.0</td>\n",
       "      <td>3.214</td>\n",
       "    </tr>\n",
       "    <tr>\n",
       "      <th>1989-07-04</th>\n",
       "      <td>310348800.0</td>\n",
       "      <td>3.592</td>\n",
       "    </tr>\n",
       "    <tr>\n",
       "      <th>1989-07-05</th>\n",
       "      <td>360288000.0</td>\n",
       "      <td>4.170</td>\n",
       "    </tr>\n",
       "  </tbody>\n",
       "</table>\n",
       "</div>"
      ],
      "text/plain": [
       "            historical_inflow   flow\n",
       "date                                \n",
       "1989-07-01        128390400.0  1.486\n",
       "1989-07-02        353289600.0  4.089\n",
       "1989-07-03        277689600.0  3.214\n",
       "1989-07-04        310348800.0  3.592\n",
       "1989-07-05        360288000.0  4.170"
      ]
     },
     "execution_count": 5,
     "metadata": {},
     "output_type": "execute_result"
    }
   ],
   "source": [
    "df_historical = pd.read_csv(DIRECTORY + '/examples/eerste/historical_inflow.csv', parse_dates=['date'], index_col='date')\n",
    "df_historical = df_historical[['historical_inflow']]\n",
    "df_historical['historical_inflow'] = df_historical['historical_inflow'].replace(-9999.0, np.nan)\n",
    "df_historical['flow'] = df_historical['historical_inflow'].apply(liters_per_day_to_m3_per_second)\n",
    "df_historical.dropna(inplace=True)\n",
    "df_historical.head()"
   ]
  },
  {
   "attachments": {},
   "cell_type": "markdown",
   "metadata": {},
   "source": [
    "## Dry season baseflow component.\n",
    "\n",
    "This example component has the following characteristics.\n",
    "    \n",
    "* Timing: [01 Dec, 01 May], corresponds with dry season.\n",
    "* Magnitude: exceeds the 10th percentile of historical period, 1 day flow values.\n",
    "* Duration: less than 7 days. *NOTE*: this is defined as an *\"anti-duration\"*, we are interested in periods where timing criteria is met but the magnitude duration is NOT met for 7 or more days. This cooresponds with the timing, magnitude pattern: [1, 0] (i.e. [1=timing metric is met, 0=magnitude threshold is not met]).\n",
    "\n",
    "To score this component we identify periods in which the flow between 01 Dec - 01 May falls below the 10th percentile of the dry season flow in the historical period for 7 or more days for this, e.g. we identify periods in which the functional flow component critieria is NOT met. This is described by the following scoring criteria: [1,0,1]. \n",
    "\n",
    "This must be matched with a biotic or abiotic ecosystem function or aquatic community need. For instance, in this case perhaps the needs of large bodied fish or aquatic macroinvertibrates."
   ]
  },
  {
   "cell_type": "code",
   "execution_count": 6,
   "metadata": {},
   "outputs": [
    {
     "name": "stdout",
     "output_type": "stream",
     "text": [
      "timing: [245, 366] days of water year.\n",
      "magnitude: > 0.011 cms.\n",
      "duration: > 7 consecutive days, when the timing duration pattern [1 0], respectively.\n",
      "scoring criteria: timing, magnitude, duration: [1, 0, 1] (where 1 indicates success and 0 indicates failure to meet the criteria).\n"
     ]
    }
   ],
   "source": [
    "timing = [day_of_water_year(pd.to_datetime(\"1-1-2023\"), start=first_day_of_wy), 366]\n",
    "\n",
    "df_historical['dry_season'] = df_historical.index.map(lambda t: 1 if timing[0] <= t.day_of_year < timing[1] else 0)\n",
    "magnitude = df_historical.loc[df_historical['dry_season'] == 1]['flow'].quantile(0.10)\n",
    "\n",
    "duration = 7\n",
    "duration_pattern = np.array([1,0])\n",
    "\n",
    "print(f'timing: {timing} days of water year.')\n",
    "print(f'magnitude: > {magnitude} cms.')\n",
    "print(f'duration: > {duration} consecutive days, when the timing duration pattern {duration_pattern}, respectively.')\n",
    "print(f'scoring criteria: timing, magnitude, duration: [1, 0, 1] (where 1 indicates success and 0 indicates failure to meet the criteria).')"
   ]
  },
  {
   "cell_type": "code",
   "execution_count": 7,
   "metadata": {},
   "outputs": [],
   "source": [
    "data = {\n",
    "    'first_day_of_water_year': first_day_of_wy,\n",
    "    'components': {\n",
    "        'dry_season_baseflow': {\n",
    "            'characteristics': ['timing', 'magnitude', 'duration'],\n",
    "            'parameters': [[245, 366], [1, 0.011, '>'], [7, [1,0], '>']],\n",
    "            'scoring_pattern': [1, 0, 1]\n",
    "        },\n",
    "    }\n",
    "}\n",
    "with open(DIRECTORY + 'examples/eerste/eerste.toml', 'wb') as f:\n",
    "    tomli_w.dump(data, f)"
   ]
  },
  {
   "attachments": {},
   "cell_type": "markdown",
   "metadata": {},
   "source": [
    "## November Pulse Flow\n",
    "\n",
    "This example component has the following characteristics.\n",
    "    \n",
    "* Timing: [01 Nov, 01 Dec], corresponds with a peak in the 7, 14, 30 day flow.\n",
    "* Magnitude: exceeds the 75th percentile of historical November 1 day flow values.\n",
    "* Rate of Change: and must represent at least a doubling of the previous days flow value (e.g. it is peak not just a large baseflow).\n",
    "\n",
    "So, the flow between 01 Nov - 01 Dec must exceed the 75th percentile of daily flow values for November and must represent at least a doubling of the previous 1-day flow value.\n",
    "\n",
    "This must be matched with a biotic or abiotic ecosystem function or aquatic community need. For instance, in this case perhaps this flow provides a signal for migratory species."
   ]
  },
  {
   "cell_type": "code",
   "execution_count": 8,
   "metadata": {},
   "outputs": [
    {
     "name": "stdout",
     "output_type": "stream",
     "text": [
      "timing: [185, 215] days of water year.\n",
      "magnitude: > 2.256.\n",
      "rate_of_change: > 2.\n",
      "scoring_pattern: [1, 1, 1]\n"
     ]
    }
   ],
   "source": [
    "timing = [day_of_water_year(pd.to_datetime(\"11-1-2023\"), start=first_day_of_wy), day_of_water_year(pd.to_datetime(\"12-1-2023\"), start=first_day_of_wy)]\n",
    "\n",
    "df_historical['november'] = df_historical.index.map(lambda t: 1 if timing[0] <= t.day_of_year < timing[1] else 0)\n",
    "magnitude = df_historical.loc[df_historical['november'] == 1]['flow'].quantile(0.75)\n",
    "\n",
    "rate_of_change = 2\n",
    "\n",
    "print(f'timing: {timing} days of water year.')\n",
    "print(f'magnitude: > {magnitude}.')\n",
    "print(f'rate_of_change: > {rate_of_change}.')\n",
    "print(f'scoring_pattern: [1, 1, 1]')"
   ]
  },
  {
   "cell_type": "code",
   "execution_count": 9,
   "metadata": {},
   "outputs": [],
   "source": [
    "data = {\n",
    "    'first_day_of_water_year': first_day_of_wy,\n",
    "    'components': {\n",
    "        'dry_season_baseflow': {\n",
    "            'characteristics': ['timing', 'magnitude', 'duration'],\n",
    "            'parameters': [[245, 366], [1, 0.011, '>'], [7, [1,0], '>']],\n",
    "            'scoring_pattern': [1, 0, 1]\n",
    "        },\n",
    "        'november_pulse_flow': {\n",
    "            'characteristics': ['timing', 'magnitude', 'rate_of_change'],\n",
    "            'parameters': [[185, 215], [1, 2.256, '>'], [1, 2.0, '>']],\n",
    "            'scoring_pattern': [1, 1, 1] \n",
    "        },\n",
    "    }\n",
    "}\n",
    "with open(DIRECTORY + 'examples/eerste/eerste.toml', 'wb') as f:\n",
    "    tomli_w.dump(data, f)"
   ]
  },
  {
   "attachments": {},
   "cell_type": "markdown",
   "metadata": {},
   "source": [
    "## Bankfull flow\n",
    "\n"
   ]
  }
 ],
 "metadata": {
  "kernelspec": {
   "display_name": "functionalflows",
   "language": "python",
   "name": "python3"
  },
  "language_info": {
   "codemirror_mode": {
    "name": "ipython",
    "version": 3
   },
   "file_extension": ".py",
   "mimetype": "text/x-python",
   "name": "python",
   "nbconvert_exporter": "python",
   "pygments_lexer": "ipython3",
   "version": "3.10.4"
  },
  "orig_nbformat": 4,
  "vscode": {
   "interpreter": {
    "hash": "c9813e6d25ff535533e0afbf87c593520a9921d98f4c4d2e1ea4661e114365fd"
   }
  }
 },
 "nbformat": 4,
 "nbformat_minor": 2
}
